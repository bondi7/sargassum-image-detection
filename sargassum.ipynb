{
    "cells": [
        {
            "cell_type": "markdown",
            "source": [
                "# Detección de Sargazo\n",
                "\n",
                "Proyecto final\n",
                "\n",
                "**Reconocimiento de Patrones**, Facultad de Ingeniería. UNAM\n",
                "\n",
                "20 de agosto de 2021\n",
                "\n",
                "- Martínez Ostoa, Néstor Iván\n",
                "- Ramírez Bondi, Jorge Alejandro"
            ],
            "metadata": {}
        },
        {
            "cell_type": "code",
            "execution_count": 1,
            "source": [
                "import numpy as np"
            ],
            "outputs": [],
            "metadata": {}
        },
        {
            "cell_type": "code",
            "execution_count": null,
            "source": [],
            "outputs": [],
            "metadata": {}
        }
    ],
    "metadata": {
        "orig_nbformat": 4,
        "language_info": {
            "name": "python",
            "version": "3.7.10",
            "mimetype": "text/x-python",
            "codemirror_mode": {
                "name": "ipython",
                "version": 3
            },
            "pygments_lexer": "ipython3",
            "nbconvert_exporter": "python",
            "file_extension": ".py"
        },
        "kernelspec": {
            "name": "python3",
            "display_name": "Python 3.7.10 64-bit ('school': conda)"
        },
        "interpreter": {
            "hash": "ef40f1bb7ddb0300669b0a24e3c4766db96089896ed8874f55d0a7b6e20c8243"
        }
    },
    "nbformat": 4,
    "nbformat_minor": 2
}