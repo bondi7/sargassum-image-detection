{
 "cells": [
  {
   "cell_type": "code",
   "execution_count": 45,
   "source": [
    "import numpy as np\n",
    "import matplotlib.pyplot as plt\n",
    "from skimage.feature import greycomatrix, greycoprops\n",
    "from skimage.io import imread, imshow\n",
    "from skimage.color import rgb2gray\n",
    "from sklearn.preprocessing import LabelEncoder\n",
    "import cv2\n",
    "import os"
   ],
   "outputs": [],
   "metadata": {}
  },
  {
   "cell_type": "markdown",
   "source": [
    "## 1. Feature Extraction \n",
    "\n",
    "Haralick Features"
   ],
   "metadata": {}
  },
  {
   "cell_type": "code",
   "execution_count": 58,
   "source": [
    "def extract_haralick_features(grayscale_image, args):\n",
    "    distances = args['distances']\n",
    "    angles = args['angles']\n",
    "    glcm = greycomatrix(grayscale_image, distances, angles)\n",
    "    features = [\n",
    "        np.mean(greycoprops(glcm, 'contrast')),\n",
    "        np.mean(greycoprops(glcm, 'dissimilarity')),\n",
    "        np.mean(greycoprops(glcm, 'homogeneity')),\n",
    "        np.mean(greycoprops(glcm, 'energy')),\n",
    "        np.mean(greycoprops(glcm, 'correlation')),\n",
    "        np.mean(greycoprops(glcm, 'ASM')),\n",
    "    ]\n",
    "    return features\n",
    "\n",
    "def label_encode(y):\n",
    "    le = LabelEncoder()\n",
    "    le.fit(y)\n",
    "    return (le.transform(y), le.classes_)\n",
    "\n",
    "def get_dir_contents(path):\n",
    "    cts = os.listdir(path)\n",
    "    return [c for c in cts if c[0] != '.']\n",
    "\n",
    "def get_X_y_vectors(path, feature_extraction_function, args):\n",
    "    X = []\n",
    "    y = []\n",
    "    for label in get_dir_contents(path):\n",
    "        for file_name in get_dir_contents(path + label + \"/\"):\n",
    "            image = cv2.imread(path + label + \"/\" + file_name, cv2.IMREAD_GRAYSCALE)\n",
    "            features = feature_extraction_function(image, args)\n",
    "            X.append(features)\n",
    "            y.append(label)\n",
    "    y, classes_ = label_encode(y)\n",
    "    return (np.array(X), y, classes_)"
   ],
   "outputs": [],
   "metadata": {}
  },
  {
   "cell_type": "code",
   "execution_count": 59,
   "source": [
    "TRAIN_IMAGES_PATH = 'dataset/train/'\n",
    "TEST_IMAGES_PATH = 'dataset/test/'\n",
    "\n",
    "haralick_args = {\n",
    "    'distances': [1], \n",
    "    'angles': [0, np.pi/4, np.pi/2, 3*np.pi/4]\n",
    "}\n",
    "\n",
    "X_train, y_train, train_classes_ = get_X_y_vectors(\n",
    "    TRAIN_IMAGES_PATH, extract_haralick_features, haralick_args\n",
    ")\n",
    "X_test, y_test, test_classes_ = get_X_y_vectors(\n",
    "    TEST_IMAGES_PATH, extract_haralick_features, haralick_args\n",
    ")\n",
    "\n",
    "\n",
    "print(f\"X_train: {X_train.shape}\\ty_train: {y_train.shape}\")\n",
    "print(f\"X_test: {X_test.shape}\\ty_test: {y_test.shape}\")\n",
    "print(f\"Train classes: {train_classes_}\\nTest classes: {test_classes_}\")"
   ],
   "outputs": [
    {
     "output_type": "stream",
     "name": "stdout",
     "text": [
      "X_train: (800, 6)\ty_train: (800,)\n",
      "X_test: (300, 6)\ty_test: (300,)\n",
      "Train classes: ['coast_sky' 'dead_sargassum' 'sargassum' 'water']\n",
      "Test classes: ['coast_sky' 'dead_sargassum' 'sargassum' 'water']\n"
     ]
    }
   ],
   "metadata": {}
  },
  {
   "cell_type": "markdown",
   "source": [
    "## 2. Model Training"
   ],
   "metadata": {}
  },
  {
   "cell_type": "code",
   "execution_count": null,
   "source": [],
   "outputs": [],
   "metadata": {}
  }
 ],
 "metadata": {
  "orig_nbformat": 4,
  "language_info": {
   "name": "python",
   "version": "3.9.2",
   "mimetype": "text/x-python",
   "codemirror_mode": {
    "name": "ipython",
    "version": 3
   },
   "pygments_lexer": "ipython3",
   "nbconvert_exporter": "python",
   "file_extension": ".py"
  },
  "kernelspec": {
   "name": "python3",
   "display_name": "Python 3.9.2 64-bit"
  },
  "interpreter": {
   "hash": "aee8b7b246df8f9039afb4144a1f6fd8d2ca17a180786b69acc140d282b71a49"
  }
 },
 "nbformat": 4,
 "nbformat_minor": 2
}