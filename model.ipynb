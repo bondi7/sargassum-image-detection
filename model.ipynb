{
 "cells": [
  {
   "cell_type": "code",
   "execution_count": 45,
   "source": [
    "import numpy as np\n",
    "import matplotlib.pyplot as plt\n",
    "from skimage.feature import greycomatrix, greycoprops\n",
    "from skimage.io import imread, imshow\n",
    "from skimage.color import rgb2gray\n",
    "from sklearn.preprocessing import LabelEncoder\n",
    "import cv2\n",
    "import os"
   ],
   "outputs": [],
   "metadata": {}
  },
  {
   "cell_type": "markdown",
   "source": [
    "## 1. Feature Extraction \n",
    "\n",
    "Haralick Features"
   ],
   "metadata": {}
  },
  {
   "cell_type": "code",
   "execution_count": 58,
   "source": [
    "def extract_haralick_features(grayscale_image, args):\n",
    "    distances = args['distances']\n",
    "    angles = args['angles']\n",
    "    glcm = greycomatrix(grayscale_image, distances, angles)\n",
    "    features = [\n",
    "        np.mean(greycoprops(glcm, 'contrast')),\n",
    "        np.mean(greycoprops(glcm, 'dissimilarity')),\n",
    "        np.mean(greycoprops(glcm, 'homogeneity')),\n",
    "        np.mean(greycoprops(glcm, 'energy')),\n",
    "        np.mean(greycoprops(glcm, 'correlation')),\n",
    "        np.mean(greycoprops(glcm, 'ASM')),\n",
    "    ]\n",
    "    return features\n",
    "\n",
    "def label_encode(y):\n",
    "    le = LabelEncoder()\n",
    "    le.fit(y)\n",
    "    return (le.transform(y), le.classes_)\n",
    "\n",
    "def get_dir_contents(path):\n",
    "    cts = os.listdir(path)\n",
    "    return [c for c in cts if c[0] != '.']\n",
    "\n",
    "def get_X_y_vectors(path, feature_extraction_function, args):\n",
    "    X = []\n",
    "    y = []\n",
    "    for label in get_dir_contents(path):\n",
    "        for file_name in get_dir_contents(path + label + \"/\"):\n",
    "            image = cv2.imread(path + label + \"/\" + file_name, cv2.IMREAD_GRAYSCALE)\n",
    "            features = feature_extraction_function(image, args)\n",
    "            X.append(features)\n",
    "            y.append(label)\n",
    "    y, classes_ = label_encode(y)\n",
    "    return (np.array(X), y, classes_)"
   ],
   "outputs": [],
   "metadata": {}
  },
  {
   "cell_type": "code",
   "execution_count": 132,
   "source": [
    "TRAIN_IMAGES_PATH = 'dataset/train/'\n",
    "TEST_IMAGES_PATH = 'dataset/test/'\n",
    "\n",
    "haralick_args = {\n",
    "    'distances': [1], \n",
    "    'angles': [0, np.pi/4, np.pi/2, 3*np.pi/4]\n",
    "}\n",
    "\n",
    "X_train, y_train, train_classes_ = get_X_y_vectors(\n",
    "    TRAIN_IMAGES_PATH, extract_haralick_features, haralick_args\n",
    ")\n",
    "X_test, y_test, test_classes_ = get_X_y_vectors(\n",
    "    TEST_IMAGES_PATH, extract_haralick_features, haralick_args\n",
    ")\n",
    "\n",
    "\n",
    "print(f\"X_train: {X_train.shape}\\ty_train: {y_train.shape}\")\n",
    "print(f\"X_test: {X_test.shape}\\ty_test: {y_test.shape}\")\n",
    "print(f\"Train classes: {train_classes_}\\nTest classes: {test_classes_}\")"
   ],
   "outputs": [
    {
     "output_type": "stream",
     "name": "stdout",
     "text": [
      "X_train: (800, 6)\ty_train: (800,)\n",
      "X_test: (300, 6)\ty_test: (300,)\n",
      "Train classes: ['coast' 'dead_sargassum' 'sargassum' 'sky' 'water']\n",
      "Test classes: ['coast' 'dead_sargassum' 'sargassum' 'sky' 'water']\n"
     ]
    }
   ],
   "metadata": {}
  },
  {
   "cell_type": "markdown",
   "source": [
    "## 2. Model Training and Evaluation"
   ],
   "metadata": {}
  },
  {
   "cell_type": "code",
   "execution_count": 165,
   "source": [
    "from sklearn.neural_network import MLPClassifier\n",
    "from sklearn.neighbors import KNeighborsClassifier\n",
    "from sklearn.svm import SVC\n",
    "from sklearn.gaussian_process import GaussianProcessClassifier\n",
    "from sklearn.gaussian_process.kernels import RBF\n",
    "from sklearn.tree import DecisionTreeClassifier\n",
    "from sklearn.ensemble import RandomForestClassifier, AdaBoostClassifier\n",
    "from sklearn.naive_bayes import GaussianNB\n",
    "from sklearn.discriminant_analysis import QuadraticDiscriminantAnalysis\n",
    "from sklearn.cluster import KMeans\n",
    "from sklearn.preprocessing import StandardScaler\n",
    "from sklearn.metrics import classification_report, confusion_matrix, plot_confusion_matrix\n",
    "import pandas as pd\n",
    "\n",
    "def evaluate(model, X_test, y_true, y_pred, target_names, model_name):\n",
    "    print(f\"----------—-------------—-------------—---{model_name}----------—-------------—-------------—---\")\n",
    "    print(classification_report(y_true, y_pred, target_names=target_names))\n",
    "    plot_confusion_matrix(\n",
    "        model, X_test, y_true, display_labels=target_names, cmap=plt.cm.Blues\n",
    "    )\n",
    "    plt.title(f\"{model_name} confusion matrix\")\n",
    "    plt.show()"
   ],
   "outputs": [],
   "metadata": {}
  },
  {
   "cell_type": "code",
   "execution_count": 168,
   "source": [
    "classifiers = [\n",
    "    KNeighborsClassifier(n_neighbors=5, weights='distance'),\n",
    "    SVC(),\n",
    "    GaussianProcessClassifier(),\n",
    "    DecisionTreeClassifier(max_depth=5),\n",
    "    RandomForestClassifier(max_depth=5, max_features=5),\n",
    "    MLPClassifier(alpha=1, max_iter=1000),\n",
    "    AdaBoostClassifier(random_state=0),\n",
    "    GaussianNB(),\n",
    "    QuadraticDiscriminantAnalysis()\n",
    "]\n",
    "names = [\"Nearest Neighbors\", \"SVM\", \"Gaussian Process\",\n",
    "         \"Decision Tree\", \"Random Forest\", \"Neural Network\", \"AdaBoost\",\n",
    "         \"Naive Bayes\", \"QDA\"]\n",
    "\n",
    "scores = []\n",
    "\n",
    "for name, classifier in zip(names, classifiers):\n",
    "    classifier.fit(X_train, y_train)\n",
    "    score = classifier.score(X_test, y_test)\n",
    "    y_pred = classifier.predict(X_test)\n",
    "    scores.append(score)\n",
    "\n",
    "df = pd.DataFrame({'classifier': names,'score': scores})\n",
    "df = df.sort_values(by='score', ascending=False)\n",
    "df"
   ],
   "outputs": [
    {
     "output_type": "execute_result",
     "data": {
      "text/plain": [
       "          classifier     score\n",
       "4      Random Forest  0.683333\n",
       "3      Decision Tree  0.640000\n",
       "6           AdaBoost  0.616667\n",
       "8                QDA  0.616667\n",
       "5     Neural Network  0.610000\n",
       "2   Gaussian Process  0.603333\n",
       "0  Nearest Neighbors  0.573333\n",
       "1                SVM  0.543333\n",
       "7        Naive Bayes  0.493333"
      ],
      "text/html": [
       "<div>\n",
       "<style scoped>\n",
       "    .dataframe tbody tr th:only-of-type {\n",
       "        vertical-align: middle;\n",
       "    }\n",
       "\n",
       "    .dataframe tbody tr th {\n",
       "        vertical-align: top;\n",
       "    }\n",
       "\n",
       "    .dataframe thead th {\n",
       "        text-align: right;\n",
       "    }\n",
       "</style>\n",
       "<table border=\"1\" class=\"dataframe\">\n",
       "  <thead>\n",
       "    <tr style=\"text-align: right;\">\n",
       "      <th></th>\n",
       "      <th>classifier</th>\n",
       "      <th>score</th>\n",
       "    </tr>\n",
       "  </thead>\n",
       "  <tbody>\n",
       "    <tr>\n",
       "      <th>4</th>\n",
       "      <td>Random Forest</td>\n",
       "      <td>0.683333</td>\n",
       "    </tr>\n",
       "    <tr>\n",
       "      <th>3</th>\n",
       "      <td>Decision Tree</td>\n",
       "      <td>0.640000</td>\n",
       "    </tr>\n",
       "    <tr>\n",
       "      <th>6</th>\n",
       "      <td>AdaBoost</td>\n",
       "      <td>0.616667</td>\n",
       "    </tr>\n",
       "    <tr>\n",
       "      <th>8</th>\n",
       "      <td>QDA</td>\n",
       "      <td>0.616667</td>\n",
       "    </tr>\n",
       "    <tr>\n",
       "      <th>5</th>\n",
       "      <td>Neural Network</td>\n",
       "      <td>0.610000</td>\n",
       "    </tr>\n",
       "    <tr>\n",
       "      <th>2</th>\n",
       "      <td>Gaussian Process</td>\n",
       "      <td>0.603333</td>\n",
       "    </tr>\n",
       "    <tr>\n",
       "      <th>0</th>\n",
       "      <td>Nearest Neighbors</td>\n",
       "      <td>0.573333</td>\n",
       "    </tr>\n",
       "    <tr>\n",
       "      <th>1</th>\n",
       "      <td>SVM</td>\n",
       "      <td>0.543333</td>\n",
       "    </tr>\n",
       "    <tr>\n",
       "      <th>7</th>\n",
       "      <td>Naive Bayes</td>\n",
       "      <td>0.493333</td>\n",
       "    </tr>\n",
       "  </tbody>\n",
       "</table>\n",
       "</div>"
      ]
     },
     "metadata": {},
     "execution_count": 168
    }
   ],
   "metadata": {}
  },
  {
   "cell_type": "code",
   "execution_count": 176,
   "source": [
    "best_classifiers_df = df.iloc[:2]\n",
    "for idx in np.array(best_classifiers_df.index):\n",
    "    name = names[idx]\n",
    "    clf = classifiers[idx]\n",
    "    clf.fit(X_train, y_train)\n",
    "    y_pred = clf.predict(X_test)\n",
    "    print(f\"-------------------------{name}-------------------------\")\n",
    "    print(classification_report(y_test, y_pred, target_names=train_classes_))"
   ],
   "outputs": [
    {
     "output_type": "stream",
     "name": "stdout",
     "text": [
      "-------------------------Random Forest-------------------------\n",
      "                precision    recall  f1-score   support\n",
      "\n",
      "         coast       0.80      0.95      0.87       116\n",
      "dead_sargassum       0.62      0.36      0.45        45\n",
      "     sargassum       0.52      0.25      0.33        53\n",
      "           sky       0.85      0.79      0.82        29\n",
      "         water       0.54      0.81      0.65        57\n",
      "\n",
      "      accuracy                           0.69       300\n",
      "     macro avg       0.67      0.63      0.62       300\n",
      "  weighted avg       0.68      0.69      0.67       300\n",
      "\n",
      "-------------------------Decision Tree-------------------------\n",
      "                precision    recall  f1-score   support\n",
      "\n",
      "         coast       0.76      0.96      0.85       116\n",
      "dead_sargassum       0.47      0.18      0.26        45\n",
      "     sargassum       0.28      0.13      0.18        53\n",
      "           sky       0.84      0.72      0.78        29\n",
      "         water       0.51      0.77      0.61        57\n",
      "\n",
      "      accuracy                           0.64       300\n",
      "     macro avg       0.57      0.55      0.53       300\n",
      "  weighted avg       0.59      0.64      0.59       300\n",
      "\n"
     ]
    }
   ],
   "metadata": {}
  },
  {
   "cell_type": "code",
   "execution_count": 179,
   "source": [
    "best_classifiers_df = df.iloc[2:4]\n",
    "for idx in np.array(best_classifiers_df.index):\n",
    "    name = names[idx]\n",
    "    clf = classifiers[idx]\n",
    "    clf.fit(X_train, y_train)\n",
    "    y_pred = clf.predict(X_test)\n",
    "    print(f\"-------------------------{name}-------------------------\")\n",
    "    print(classification_report(y_test, y_pred, target_names=train_classes_))"
   ],
   "outputs": [
    {
     "output_type": "stream",
     "name": "stdout",
     "text": [
      "-------------------------AdaBoost-------------------------\n",
      "                precision    recall  f1-score   support\n",
      "\n",
      "         coast       0.81      0.84      0.83       116\n",
      "dead_sargassum       0.34      0.42      0.38        45\n",
      "     sargassum       0.25      0.04      0.07        53\n",
      "           sky       0.90      0.62      0.73        29\n",
      "         water       0.51      0.84      0.63        57\n",
      "\n",
      "      accuracy                           0.62       300\n",
      "     macro avg       0.56      0.55      0.53       300\n",
      "  weighted avg       0.59      0.62      0.58       300\n",
      "\n",
      "-------------------------QDA-------------------------\n",
      "                precision    recall  f1-score   support\n",
      "\n",
      "         coast       0.99      0.59      0.74       116\n",
      "dead_sargassum       0.44      0.89      0.59        45\n",
      "     sargassum       0.38      0.11      0.17        53\n",
      "           sky       0.75      0.72      0.74        29\n",
      "         water       0.51      0.86      0.64        57\n",
      "\n",
      "      accuracy                           0.62       300\n",
      "     macro avg       0.61      0.64      0.58       300\n",
      "  weighted avg       0.68      0.62      0.60       300\n",
      "\n"
     ]
    }
   ],
   "metadata": {}
  },
  {
   "cell_type": "code",
   "execution_count": 181,
   "source": [
    "best_classifiers_df = df.iloc[4:6]\n",
    "for idx in np.array(best_classifiers_df.index):\n",
    "    name = names[idx]\n",
    "    clf = classifiers[idx]\n",
    "    clf.fit(X_train, y_train)\n",
    "    y_pred = clf.predict(X_test)\n",
    "    print(f\"-------------------------{name}-------------------------\")\n",
    "    print(classification_report(y_test, y_pred, target_names=train_classes_))"
   ],
   "outputs": [
    {
     "output_type": "stream",
     "name": "stdout",
     "text": [
      "-------------------------Neural Network-------------------------\n",
      "                precision    recall  f1-score   support\n",
      "\n",
      "         coast       0.71      0.98      0.82       116\n",
      "dead_sargassum       0.00      0.00      0.00        45\n",
      "     sargassum       1.00      0.02      0.04        53\n",
      "           sky       0.48      0.72      0.58        29\n",
      "         water       0.49      0.81      0.61        57\n",
      "\n",
      "      accuracy                           0.61       300\n",
      "     macro avg       0.53      0.51      0.41       300\n",
      "  weighted avg       0.59      0.61      0.50       300\n",
      "\n"
     ]
    },
    {
     "output_type": "stream",
     "name": "stderr",
     "text": [
      "/usr/local/lib/python3.9/site-packages/sklearn/metrics/_classification.py:1245: UndefinedMetricWarning: Precision and F-score are ill-defined and being set to 0.0 in labels with no predicted samples. Use `zero_division` parameter to control this behavior.\n",
      "  _warn_prf(average, modifier, msg_start, len(result))\n",
      "/usr/local/lib/python3.9/site-packages/sklearn/metrics/_classification.py:1245: UndefinedMetricWarning: Precision and F-score are ill-defined and being set to 0.0 in labels with no predicted samples. Use `zero_division` parameter to control this behavior.\n",
      "  _warn_prf(average, modifier, msg_start, len(result))\n",
      "/usr/local/lib/python3.9/site-packages/sklearn/metrics/_classification.py:1245: UndefinedMetricWarning: Precision and F-score are ill-defined and being set to 0.0 in labels with no predicted samples. Use `zero_division` parameter to control this behavior.\n",
      "  _warn_prf(average, modifier, msg_start, len(result))\n"
     ]
    },
    {
     "output_type": "stream",
     "name": "stdout",
     "text": [
      "-------------------------Gaussian Process-------------------------\n",
      "                precision    recall  f1-score   support\n",
      "\n",
      "         coast       0.76      0.77      0.76       116\n",
      "dead_sargassum       0.41      0.42      0.42        45\n",
      "     sargassum       0.50      0.19      0.27        53\n",
      "           sky       0.59      0.66      0.62        29\n",
      "         water       0.52      0.77      0.62        57\n",
      "\n",
      "      accuracy                           0.60       300\n",
      "     macro avg       0.56      0.56      0.54       300\n",
      "  weighted avg       0.60      0.60      0.58       300\n",
      "\n"
     ]
    }
   ],
   "metadata": {}
  },
  {
   "cell_type": "code",
   "execution_count": 182,
   "source": [
    "best_classifiers_df = df.iloc[6:8]\n",
    "for idx in np.array(best_classifiers_df.index):\n",
    "    name = names[idx]\n",
    "    clf = classifiers[idx]\n",
    "    clf.fit(X_train, y_train)\n",
    "    y_pred = clf.predict(X_test)\n",
    "    print(f\"-------------------------{name}-------------------------\")\n",
    "    print(classification_report(y_test, y_pred, target_names=train_classes_))"
   ],
   "outputs": [
    {
     "output_type": "stream",
     "name": "stdout",
     "text": [
      "-------------------------Nearest Neighbors-------------------------\n",
      "                precision    recall  f1-score   support\n",
      "\n",
      "         coast       0.77      0.78      0.77       116\n",
      "dead_sargassum       0.38      0.42      0.40        45\n",
      "     sargassum       0.33      0.17      0.22        53\n",
      "           sky       0.65      0.76      0.70        29\n",
      "         water       0.44      0.56      0.50        57\n",
      "\n",
      "      accuracy                           0.57       300\n",
      "     macro avg       0.51      0.54      0.52       300\n",
      "  weighted avg       0.56      0.57      0.56       300\n",
      "\n",
      "-------------------------SVM-------------------------\n",
      "                precision    recall  f1-score   support\n",
      "\n",
      "         coast       0.71      0.94      0.81       116\n",
      "dead_sargassum       0.00      0.00      0.00        45\n",
      "     sargassum       0.00      0.00      0.00        53\n",
      "           sky       0.00      0.00      0.00        29\n",
      "         water       0.37      0.95      0.53        57\n",
      "\n",
      "      accuracy                           0.54       300\n",
      "     macro avg       0.22      0.38      0.27       300\n",
      "  weighted avg       0.35      0.54      0.41       300\n",
      "\n"
     ]
    },
    {
     "output_type": "stream",
     "name": "stderr",
     "text": [
      "/usr/local/lib/python3.9/site-packages/sklearn/metrics/_classification.py:1245: UndefinedMetricWarning: Precision and F-score are ill-defined and being set to 0.0 in labels with no predicted samples. Use `zero_division` parameter to control this behavior.\n",
      "  _warn_prf(average, modifier, msg_start, len(result))\n",
      "/usr/local/lib/python3.9/site-packages/sklearn/metrics/_classification.py:1245: UndefinedMetricWarning: Precision and F-score are ill-defined and being set to 0.0 in labels with no predicted samples. Use `zero_division` parameter to control this behavior.\n",
      "  _warn_prf(average, modifier, msg_start, len(result))\n",
      "/usr/local/lib/python3.9/site-packages/sklearn/metrics/_classification.py:1245: UndefinedMetricWarning: Precision and F-score are ill-defined and being set to 0.0 in labels with no predicted samples. Use `zero_division` parameter to control this behavior.\n",
      "  _warn_prf(average, modifier, msg_start, len(result))\n"
     ]
    }
   ],
   "metadata": {}
  },
  {
   "cell_type": "code",
   "execution_count": 186,
   "source": [
    "best_classifiers_df = df.iloc[8:9]\n",
    "for idx in np.array(best_classifiers_df.index):\n",
    "    name = names[idx]\n",
    "    clf = classifiers[idx]\n",
    "    clf.fit(X_train, y_train)\n",
    "    y_pred = clf.predict(X_test)\n",
    "    print(f\"-------------------------{name}-------------------------\")\n",
    "    print(classification_report(y_test, y_pred, target_names=train_classes_))"
   ],
   "outputs": [
    {
     "output_type": "stream",
     "name": "stdout",
     "text": [
      "-------------------------Naive Bayes-------------------------\n",
      "                precision    recall  f1-score   support\n",
      "\n",
      "         coast       0.96      0.39      0.55       116\n",
      "dead_sargassum       0.34      0.80      0.48        45\n",
      "     sargassum       0.20      0.02      0.03        53\n",
      "           sky       0.42      0.83      0.56        29\n",
      "         water       0.49      0.74      0.59        57\n",
      "\n",
      "      accuracy                           0.49       300\n",
      "     macro avg       0.48      0.55      0.44       300\n",
      "  weighted avg       0.59      0.49      0.46       300\n",
      "\n"
     ]
    }
   ],
   "metadata": {}
  },
  {
   "cell_type": "code",
   "execution_count": null,
   "source": [],
   "outputs": [],
   "metadata": {}
  }
 ],
 "metadata": {
  "orig_nbformat": 4,
  "language_info": {
   "name": "python",
   "version": "3.9.2",
   "mimetype": "text/x-python",
   "codemirror_mode": {
    "name": "ipython",
    "version": 3
   },
   "pygments_lexer": "ipython3",
   "nbconvert_exporter": "python",
   "file_extension": ".py"
  },
  "kernelspec": {
   "name": "python3",
   "display_name": "Python 3.9.2 64-bit"
  },
  "interpreter": {
   "hash": "aee8b7b246df8f9039afb4144a1f6fd8d2ca17a180786b69acc140d282b71a49"
  }
 },
 "nbformat": 4,
 "nbformat_minor": 2
}